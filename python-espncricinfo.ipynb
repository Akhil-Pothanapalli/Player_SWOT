{
 "cells": [
  {
   "cell_type": "code",
   "execution_count": null,
   "metadata": {},
   "outputs": [],
   "source": [
    "! pip install python-espncricinfo"
   ]
  },
  {
   "cell_type": "markdown",
   "metadata": {},
   "source": [
    "There are 4 primary modules in espncricinfo - \n",
    "1. match\n",
    "2. player\n",
    "3. series\n",
    "4. summary\n",
    "\n",
    "Let's us explore one by one"
   ]
  },
  {
   "cell_type": "code",
   "execution_count": null,
   "metadata": {},
   "outputs": [],
   "source": [
    "from espncricinfo.match import Match"
   ]
  },
  {
   "cell_type": "markdown",
   "metadata": {},
   "source": [
    "To aquire a match id, google any match that you want and go to espn site, within the url there\n",
    "exists the match id\n",
    "\n",
    "The following is the url of 2011 ODI World Cup Final between India and Sri Lanka\n",
    "\n",
    "https://www.espncricinfo.com/series/icc-cricket-world-cup-2010-11-381449/india-vs-sri-lanka-final-433606/full-scorecard\n",
    "\n",
    "Here 433606 is the match id.\n",
    "\n",
    "Similarly, for the final of T20 World Cup 2024 Final between India and South Africa,\n",
    "\n",
    "https://www.espncricinfo.com/series/icc-men-s-t20-world-cup-2024-1411166/india-vs-south-africa-final-1415755/full-scorecard\n",
    "\n",
    "1415755 is the match id."
   ]
  },
  {
   "cell_type": "code",
   "execution_count": null,
   "metadata": {},
   "outputs": [],
   "source": [
    "# Let's work with the T20 World Cup Final\n",
    "\n",
    "WC_final_T20_2024 = Match(1415755)"
   ]
  },
  {
   "cell_type": "code",
   "execution_count": null,
   "metadata": {},
   "outputs": [],
   "source": [
    "# There are several attributes if the output is a json. Let's check some of them\n",
    "\n",
    "series = WC_final_T20_2024.series_name\n",
    "print(series)"
   ]
  },
  {
   "cell_type": "markdown",
   "metadata": {},
   "source": [
    "The series_name variable seems to join the Host country(s) with the visiting country(s). Here the final is \n",
    "between SA and IND. The World Cup is hosted jointly by USA and WI. This the reason we are not getting the \n",
    "desired output - T20 World Cup 2024."
   ]
  },
  {
   "cell_type": "code",
   "execution_count": null,
   "metadata": {},
   "outputs": [],
   "source": [
    "import pprint\n",
    "\n",
    "# To get the match format - Tests, ODI, T20, use .match_class\n",
    "print(\"The format of this match is :\", WC_final_T20_2024.match_class)\n",
    "\n",
    "# The scheduled overs for different formats of the game\n",
    "print(WC_final_T20_2024.scheduled_overs)\n",
    "\n",
    "# To get the ground name \n",
    "print(\"The match is held at\", WC_final_T20_2024.ground_name)\n",
    "\n",
    "# To get just the teams in the innnings and their meta data use\n",
    "pprint.pprint(WC_final_T20_2024.innings_list)\n",
    "\n",
    "# To get brief score card excluding individual scores, use\n",
    "pprint.pprint(WC_final_T20_2024.innings)"
   ]
  },
  {
   "cell_type": "code",
   "execution_count": null,
   "metadata": {},
   "outputs": [],
   "source": [
    "pprint.pprint(WC_final_T20_2024.team_1)\n",
    "\n",
    "\n",
    "pprint.pprint(WC_final_T20_2024.team_1_players)"
   ]
  },
  {
   "cell_type": "markdown",
   "metadata": {},
   "source": [
    "Both .team_1 and .team_1_players tell us about of players. team_1_players contains some additonal data."
   ]
  },
  {
   "cell_type": "markdown",
   "metadata": {},
   "source": [
    "# Methods in espncricinfo\n",
    "\n",
    "### 1. get_json()\n",
    "To get a complete match commentary, there is a method called get_json, but it contains a lot of additional data. It is wise to use a part of it."
   ]
  },
  {
   "cell_type": "code",
   "execution_count": null,
   "metadata": {},
   "outputs": [],
   "source": [
    "results_in_json = WC_final_T20_2024.get_json()\n",
    "pprint.pprint(results_in_json)\n",
    "\n",
    "# check for 'comms', you can see the ball by ball commentry\n",
    "# a similar type of result is obtained using get_html() method"
   ]
  },
  {
   "cell_type": "markdown",
   "metadata": {},
   "source": [
    "### 2. _legacy_scorecard_url()\n",
    "\n",
    "Use this to get the scorecard, that we usually see at the end of match. This even contains the innings progression (a brief overview of both team batting performances)"
   ]
  },
  {
   "cell_type": "code",
   "execution_count": null,
   "metadata": {},
   "outputs": [],
   "source": [
    "score_card_url = WC_final_T20_2024._legacy_scorecard_url()\n",
    "\n",
    "print(\"The score card is avaialble at\", score_card_url)"
   ]
  },
  {
   "cell_type": "markdown",
   "metadata": {},
   "source": [
    "### 3. _officials()\n",
    "\n",
    "Umpires are called as officials of the match. We can obtain their data using this method"
   ]
  },
  {
   "cell_type": "code",
   "execution_count": null,
   "metadata": {},
   "outputs": [],
   "source": [
    "umpires = WC_final_T20_2024._officials()\n",
    "pprint.pprint(umpires)"
   ]
  },
  {
   "cell_type": "markdown",
   "metadata": {},
   "source": [
    "# PLayer() module\n",
    "\n",
    "This module will extract key details about players, let's dive through some the main modules"
   ]
  },
  {
   "cell_type": "code",
   "execution_count": null,
   "metadata": {},
   "outputs": [],
   "source": [
    "# Now let's test the next one\n",
    "\n",
    "from espncricinfo.player import Player\n",
    "\n",
    "\n",
    "# Let's look for Virat Kohli, player id = 253802\n",
    "\n",
    "Virat_Kohli = Player(253802)"
   ]
  },
  {
   "cell_type": "markdown",
   "metadata": {},
   "source": [
    "### a .get_career_averages() \n",
    "\n",
    "will create a csv file in your current directory starting with player_id, it a very brief stats of the player\n",
    "\n",
    "NOTE: The cell won't produce any output"
   ]
  },
  {
   "cell_type": "code",
   "execution_count": null,
   "metadata": {},
   "outputs": [],
   "source": [
    "Virat_Kohli.get_career_averages()"
   ]
  },
  {
   "cell_type": "markdown",
   "metadata": {},
   "source": [
    "### b .get_json() \n",
    "\n",
    "results in overview of his career but not stats"
   ]
  },
  {
   "cell_type": "code",
   "execution_count": null,
   "metadata": {},
   "outputs": [],
   "source": [
    "full_profile = Virat_Kohli.get_json()\n",
    "pprint.pprint(full_profile)"
   ]
  },
  {
   "cell_type": "markdown",
   "metadata": {},
   "source": [
    "### c. get_career_summary() \n",
    "\n",
    "gives us the series wise stats, it will be useful for any model based on numerical features. The output is generated in a seperate csv file."
   ]
  },
  {
   "cell_type": "code",
   "execution_count": null,
   "metadata": {},
   "outputs": [],
   "source": [
    "Virat_Kohli.get_career_summary()"
   ]
  },
  {
   "cell_type": "markdown",
   "metadata": {},
   "source": [
    "# series() module\n",
    "\n",
    "There is a definite requirement for looking for all matches within a \n",
    "series, let's exlpore this module."
   ]
  },
  {
   "cell_type": "code",
   "execution_count": null,
   "metadata": {},
   "outputs": [],
   "source": [
    "from espncricinfo.series import Series\n",
    "\n",
    "WorldCup_24 = Series(1411166)"
   ]
  },
  {
   "cell_type": "markdown",
   "metadata": {},
   "source": [
    "### a. _get_seasons()\n",
    "\n",
    "generates several URLs, rightnow I can't make much sense of them.\n",
    "They all look similar, with the series id and some more URL's for\n",
    "video and audio. Need to explore it further.\n",
    "\n",
    "You will understand after using the second method."
   ]
  },
  {
   "cell_type": "code",
   "execution_count": null,
   "metadata": {},
   "outputs": [],
   "source": [
    "WorldCup_24._get_seasons()"
   ]
  },
  {
   "cell_type": "markdown",
   "metadata": {},
   "source": [
    "### b. _get_years_from_seasons()\n",
    "\n",
    "will result in all the years that this series is played. So when you see both these two methods, _get_seasons() gives us the URL's for each season. So we can see every match that belongs to this particular series."
   ]
  },
  {
   "cell_type": "code",
   "execution_count": null,
   "metadata": {},
   "outputs": [],
   "source": [
    "WorldCup_24._get_years_from_seasons()"
   ]
  },
  {
   "cell_type": "markdown",
   "metadata": {},
   "source": [
    "### c. _get_events()\n",
    "\n",
    "produced the info and final match. But I assume I made some mistake somewhere like getting the series or something.\n",
    "\n",
    "But I can get more info as I work on this."
   ]
  },
  {
   "cell_type": "code",
   "execution_count": null,
   "metadata": {},
   "outputs": [],
   "source": [
    "WorldCup_24._get_events()"
   ]
  }
 ],
 "metadata": {
  "kernelspec": {
   "display_name": "Python 3",
   "language": "python",
   "name": "python3"
  },
  "language_info": {
   "codemirror_mode": {
    "name": "ipython",
    "version": 3
   },
   "file_extension": ".py",
   "mimetype": "text/x-python",
   "name": "python",
   "nbconvert_exporter": "python",
   "pygments_lexer": "ipython3",
   "version": "3.10.14"
  }
 },
 "nbformat": 4,
 "nbformat_minor": 2
}
